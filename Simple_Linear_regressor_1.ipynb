{
  "nbformat": 4,
  "nbformat_minor": 0,
  "metadata": {
    "colab": {
      "provenance": [],
      "authorship_tag": "ABX9TyNwBagyBZNP4+cXtImUBaJW",
      "include_colab_link": true
    },
    "kernelspec": {
      "name": "python3",
      "display_name": "Python 3"
    },
    "language_info": {
      "name": "python"
    }
  },
  "cells": [
    {
      "cell_type": "markdown",
      "metadata": {
        "id": "view-in-github",
        "colab_type": "text"
      },
      "source": [
        "<a href=\"https://colab.research.google.com/github/divyuk/machine-learning/blob/main/Simple_Linear_regressor_1.ipynb\" target=\"_parent\"><img src=\"https://colab.research.google.com/assets/colab-badge.svg\" alt=\"Open In Colab\"/></a>"
      ]
    },
    {
      "cell_type": "code",
      "execution_count": 7,
      "metadata": {
        "id": "eOvTBQfJXvcb"
      },
      "outputs": [],
      "source": [
        "import numpy as np\n",
        "import pandas as pd\n",
        "import matplotlib.pyplot as plt\n",
        "import seaborn as sns"
      ]
    },
    {
      "cell_type": "code",
      "source": [
        "df =pd.read_csv('/content/Advertising.csv')"
      ],
      "metadata": {
        "id": "4BiIOtO7X6yo"
      },
      "execution_count": 2,
      "outputs": []
    },
    {
      "cell_type": "markdown",
      "source": [
        "So we have three feature but we are building simple linear regressor, hence we need to get rid of 2 feartures or we can combine those"
      ],
      "metadata": {
        "id": "jo1uIIwCYQkj"
      }
    },
    {
      "cell_type": "code",
      "source": [
        "df['total_spent'] = df['radio'] + df['newspaper'] + df['TV']\n",
        "df.head()"
      ],
      "metadata": {
        "colab": {
          "base_uri": "https://localhost:8080/",
          "height": 206
        },
        "id": "SA2Hdr1bYOIY",
        "outputId": "2246d40c-58a4-41fa-bfd5-1da44fb2b9c0"
      },
      "execution_count": 6,
      "outputs": [
        {
          "output_type": "execute_result",
          "data": {
            "text/plain": [
              "      TV  radio  newspaper  sales  total_spent\n",
              "0  230.1   37.8       69.2   22.1        337.1\n",
              "1   44.5   39.3       45.1   10.4        128.9\n",
              "2   17.2   45.9       69.3    9.3        132.4\n",
              "3  151.5   41.3       58.5   18.5        251.3\n",
              "4  180.8   10.8       58.4   12.9        250.0"
            ],
            "text/html": [
              "\n",
              "  <div id=\"df-7d3f6780-b2c6-4a83-9c07-940b545e99ba\">\n",
              "    <div class=\"colab-df-container\">\n",
              "      <div>\n",
              "<style scoped>\n",
              "    .dataframe tbody tr th:only-of-type {\n",
              "        vertical-align: middle;\n",
              "    }\n",
              "\n",
              "    .dataframe tbody tr th {\n",
              "        vertical-align: top;\n",
              "    }\n",
              "\n",
              "    .dataframe thead th {\n",
              "        text-align: right;\n",
              "    }\n",
              "</style>\n",
              "<table border=\"1\" class=\"dataframe\">\n",
              "  <thead>\n",
              "    <tr style=\"text-align: right;\">\n",
              "      <th></th>\n",
              "      <th>TV</th>\n",
              "      <th>radio</th>\n",
              "      <th>newspaper</th>\n",
              "      <th>sales</th>\n",
              "      <th>total_spent</th>\n",
              "    </tr>\n",
              "  </thead>\n",
              "  <tbody>\n",
              "    <tr>\n",
              "      <th>0</th>\n",
              "      <td>230.1</td>\n",
              "      <td>37.8</td>\n",
              "      <td>69.2</td>\n",
              "      <td>22.1</td>\n",
              "      <td>337.1</td>\n",
              "    </tr>\n",
              "    <tr>\n",
              "      <th>1</th>\n",
              "      <td>44.5</td>\n",
              "      <td>39.3</td>\n",
              "      <td>45.1</td>\n",
              "      <td>10.4</td>\n",
              "      <td>128.9</td>\n",
              "    </tr>\n",
              "    <tr>\n",
              "      <th>2</th>\n",
              "      <td>17.2</td>\n",
              "      <td>45.9</td>\n",
              "      <td>69.3</td>\n",
              "      <td>9.3</td>\n",
              "      <td>132.4</td>\n",
              "    </tr>\n",
              "    <tr>\n",
              "      <th>3</th>\n",
              "      <td>151.5</td>\n",
              "      <td>41.3</td>\n",
              "      <td>58.5</td>\n",
              "      <td>18.5</td>\n",
              "      <td>251.3</td>\n",
              "    </tr>\n",
              "    <tr>\n",
              "      <th>4</th>\n",
              "      <td>180.8</td>\n",
              "      <td>10.8</td>\n",
              "      <td>58.4</td>\n",
              "      <td>12.9</td>\n",
              "      <td>250.0</td>\n",
              "    </tr>\n",
              "  </tbody>\n",
              "</table>\n",
              "</div>\n",
              "      <button class=\"colab-df-convert\" onclick=\"convertToInteractive('df-7d3f6780-b2c6-4a83-9c07-940b545e99ba')\"\n",
              "              title=\"Convert this dataframe to an interactive table.\"\n",
              "              style=\"display:none;\">\n",
              "        \n",
              "  <svg xmlns=\"http://www.w3.org/2000/svg\" height=\"24px\"viewBox=\"0 0 24 24\"\n",
              "       width=\"24px\">\n",
              "    <path d=\"M0 0h24v24H0V0z\" fill=\"none\"/>\n",
              "    <path d=\"M18.56 5.44l.94 2.06.94-2.06 2.06-.94-2.06-.94-.94-2.06-.94 2.06-2.06.94zm-11 1L8.5 8.5l.94-2.06 2.06-.94-2.06-.94L8.5 2.5l-.94 2.06-2.06.94zm10 10l.94 2.06.94-2.06 2.06-.94-2.06-.94-.94-2.06-.94 2.06-2.06.94z\"/><path d=\"M17.41 7.96l-1.37-1.37c-.4-.4-.92-.59-1.43-.59-.52 0-1.04.2-1.43.59L10.3 9.45l-7.72 7.72c-.78.78-.78 2.05 0 2.83L4 21.41c.39.39.9.59 1.41.59.51 0 1.02-.2 1.41-.59l7.78-7.78 2.81-2.81c.8-.78.8-2.07 0-2.86zM5.41 20L4 18.59l7.72-7.72 1.47 1.35L5.41 20z\"/>\n",
              "  </svg>\n",
              "      </button>\n",
              "      \n",
              "  <style>\n",
              "    .colab-df-container {\n",
              "      display:flex;\n",
              "      flex-wrap:wrap;\n",
              "      gap: 12px;\n",
              "    }\n",
              "\n",
              "    .colab-df-convert {\n",
              "      background-color: #E8F0FE;\n",
              "      border: none;\n",
              "      border-radius: 50%;\n",
              "      cursor: pointer;\n",
              "      display: none;\n",
              "      fill: #1967D2;\n",
              "      height: 32px;\n",
              "      padding: 0 0 0 0;\n",
              "      width: 32px;\n",
              "    }\n",
              "\n",
              "    .colab-df-convert:hover {\n",
              "      background-color: #E2EBFA;\n",
              "      box-shadow: 0px 1px 2px rgba(60, 64, 67, 0.3), 0px 1px 3px 1px rgba(60, 64, 67, 0.15);\n",
              "      fill: #174EA6;\n",
              "    }\n",
              "\n",
              "    [theme=dark] .colab-df-convert {\n",
              "      background-color: #3B4455;\n",
              "      fill: #D2E3FC;\n",
              "    }\n",
              "\n",
              "    [theme=dark] .colab-df-convert:hover {\n",
              "      background-color: #434B5C;\n",
              "      box-shadow: 0px 1px 3px 1px rgba(0, 0, 0, 0.15);\n",
              "      filter: drop-shadow(0px 1px 2px rgba(0, 0, 0, 0.3));\n",
              "      fill: #FFFFFF;\n",
              "    }\n",
              "  </style>\n",
              "\n",
              "      <script>\n",
              "        const buttonEl =\n",
              "          document.querySelector('#df-7d3f6780-b2c6-4a83-9c07-940b545e99ba button.colab-df-convert');\n",
              "        buttonEl.style.display =\n",
              "          google.colab.kernel.accessAllowed ? 'block' : 'none';\n",
              "\n",
              "        async function convertToInteractive(key) {\n",
              "          const element = document.querySelector('#df-7d3f6780-b2c6-4a83-9c07-940b545e99ba');\n",
              "          const dataTable =\n",
              "            await google.colab.kernel.invokeFunction('convertToInteractive',\n",
              "                                                     [key], {});\n",
              "          if (!dataTable) return;\n",
              "\n",
              "          const docLinkHtml = 'Like what you see? Visit the ' +\n",
              "            '<a target=\"_blank\" href=https://colab.research.google.com/notebooks/data_table.ipynb>data table notebook</a>'\n",
              "            + ' to learn more about interactive tables.';\n",
              "          element.innerHTML = '';\n",
              "          dataTable['output_type'] = 'display_data';\n",
              "          await google.colab.output.renderOutput(dataTable, element);\n",
              "          const docLink = document.createElement('div');\n",
              "          docLink.innerHTML = docLinkHtml;\n",
              "          element.appendChild(docLink);\n",
              "        }\n",
              "      </script>\n",
              "    </div>\n",
              "  </div>\n",
              "  "
            ]
          },
          "metadata": {},
          "execution_count": 6
        }
      ]
    },
    {
      "cell_type": "markdown",
      "source": [
        "We will try to find the relation between total_spent and sales"
      ],
      "metadata": {
        "id": "HcSFGvgXY8Bj"
      }
    },
    {
      "cell_type": "code",
      "source": [
        "sns.scatterplot(data=df,x='total_spent',y='sales')"
      ],
      "metadata": {
        "colab": {
          "base_uri": "https://localhost:8080/",
          "height": 297
        },
        "id": "RQRMB_BKY6_3",
        "outputId": "30bd1fa1-fab7-4914-b095-7aab56b9e5a6"
      },
      "execution_count": 12,
      "outputs": [
        {
          "output_type": "execute_result",
          "data": {
            "text/plain": [
              "<matplotlib.axes._subplots.AxesSubplot at 0x7fc821afe0d0>"
            ]
          },
          "metadata": {},
          "execution_count": 12
        },
        {
          "output_type": "display_data",
          "data": {
            "text/plain": [
              "<Figure size 432x288 with 1 Axes>"
            ],
            "image/png": "[encoded data removed]"
          },
          "metadata": {
            "needs_background": "light"
          }
        }
      ]
    },
    {
      "cell_type": "markdown",
      "source": [
        "The trend seems to linear. A positive trend between the amount of sales done and the sales happened."
      ],
      "metadata": {
        "id": "UuOTaQj2ZkUb"
      }
    },
    {
      "cell_type": "code",
      "source": [
        "sns.regplot(data=df,x='total_spent',y='sales') #Since this is a simple linear regression, the seaborn plotted the best fit line using OLS"
      ],
      "metadata": {
        "colab": {
          "base_uri": "https://localhost:8080/",
          "height": 297
        },
        "id": "8vi7FdAqYwUw",
        "outputId": "4dc3f738-c550-4ea1-8267-00f9a3b9e810"
      },
      "execution_count": 14,
      "outputs": [
        {
          "output_type": "execute_result",
          "data": {
            "text/plain": [
              "<matplotlib.axes._subplots.AxesSubplot at 0x7fc82160e7d0>"
            ]
          },
          "metadata": {},
          "execution_count": 14
        },
        {
          "output_type": "display_data",
          "data": {
            "text/plain": [
              "<Figure size 432x288 with 1 Axes>"
            ],
            "image/png": "[encoded data removed]"
          },
          "metadata": {
            "needs_background": "light"
          }
        }
      ]
    },
    {
      "cell_type": "code",
      "source": [
        "X = df['total_spent']\n",
        "y = df['sales']"
      ],
      "metadata": {
        "id": "9vh6vusUZ36C"
      },
      "execution_count": 15,
      "outputs": []
    },
    {
      "cell_type": "code",
      "source": [
        "help(np.polyfit) # y = mx + b --> polyfit will return coeff"
      ],
      "metadata": {
        "colab": {
          "base_uri": "https://localhost:8080/"
        },
        "id": "-6CNqqJ9aR7E",
        "outputId": "c0c83bb5-f58b-44a6-e71c-392b7a9088b6"
      },
      "execution_count": 17,
      "outputs": [
        {
          "output_type": "stream",
          "name": "stdout",
          "text": [
            "Help on function polyfit in module numpy:\n",
            "\n",
            "polyfit(x, y, deg, rcond=None, full=False, w=None, cov=False)\n",
            "    Least squares polynomial fit.\n",
            "    \n",
            "    .. note::\n",
            "       This forms part of the old polynomial API. Since version 1.4, the\n",
            "       new polynomial API defined in `numpy.polynomial` is preferred.\n",
            "       A summary of the differences can be found in the\n",
            "       :doc:`transition guide </reference/routines.polynomials>`.\n",
            "    \n",
            "    Fit a polynomial ``p(x) = p[0] * x**deg + ... + p[deg]`` of degree `deg`\n",
            "    to points `(x, y)`. Returns a vector of coefficients `p` that minimises\n",
            "    the squared error in the order `deg`, `deg-1`, ... `0`.\n",
            "    \n",
            "    The `Polynomial.fit <numpy.polynomial.polynomial.Polynomial.fit>` class\n",
            "    method is recommended for new code as it is more stable numerically. See\n",
            "    the documentation of the method for more information.\n",
            "    \n",
            "    Parameters\n",
            "    ----------\n",
            "    x : array_like, shape (M,)\n",
            "        x-coordinates of the M sample points ``(x[i], y[i])``.\n",
            "    y : array_like, shape (M,) or (M, K)\n",
            "        y-coordinates of the sample points. Several data sets of sample\n",
            "        points sharing the same x-coordinates can be fitted at once by\n",
            "        passing in a 2D-array that contains one dataset per column.\n",
            "    deg : int\n",
            "        Degree of the fitting polynomial\n",
            "    rcond : float, optional\n",
            "        Relative condition number of the fit. Singular values smaller than\n",
            "        this relative to the largest singular value will be ignored. The\n",
            "        default value is len(x)*eps, where eps is the relative precision of\n",
            "        the float type, about 2e-16 in most cases.\n",
            "    full : bool, optional\n",
            "        Switch determining nature of return value. When it is False (the\n",
            "        default) just the coefficients are returned, when True diagnostic\n",
            "        information from the singular value decomposition is also returned.\n",
            "    w : array_like, shape (M,), optional\n",
            "        Weights to apply to the y-coordinates of the sample points. For\n",
            "        gaussian uncertainties, use 1/sigma (not 1/sigma**2).\n",
            "    cov : bool or str, optional\n",
            "        If given and not `False`, return not just the estimate but also its\n",
            "        covariance matrix. By default, the covariance are scaled by\n",
            "        chi2/dof, where dof = M - (deg + 1), i.e., the weights are presumed \n",
            "        to be unreliable except in a relative sense and everything is scaled \n",
            "        such that the reduced chi2 is unity. This scaling is omitted if \n",
            "        ``cov='unscaled'``, as is relevant for the case that the weights are \n",
            "        1/sigma**2, with sigma known to be a reliable estimate of the \n",
            "        uncertainty.\n",
            "    \n",
            "    Returns\n",
            "    -------\n",
            "    p : ndarray, shape (deg + 1,) or (deg + 1, K)\n",
            "        Polynomial coefficients, highest power first.  If `y` was 2-D, the\n",
            "        coefficients for `k`-th data set are in ``p[:,k]``.\n",
            "    \n",
            "    residuals, rank, singular_values, rcond\n",
            "        Present only if `full` = True.  Residuals is sum of squared residuals\n",
            "        of the least-squares fit, the effective rank of the scaled Vandermonde\n",
            "        coefficient matrix, its singular values, and the specified value of\n",
            "        `rcond`. For more details, see `linalg.lstsq`.\n",
            "    \n",
            "    V : ndarray, shape (M,M) or (M,M,K)\n",
            "        Present only if `full` = False and `cov`=True.  The covariance\n",
            "        matrix of the polynomial coefficient estimates.  The diagonal of\n",
            "        this matrix are the variance estimates for each coefficient.  If y\n",
            "        is a 2-D array, then the covariance matrix for the `k`-th data set\n",
            "        are in ``V[:,:,k]``\n",
            "    \n",
            "    \n",
            "    Warns\n",
            "    -----\n",
            "    RankWarning\n",
            "        The rank of the coefficient matrix in the least-squares fit is\n",
            "        deficient. The warning is only raised if `full` = False.\n",
            "    \n",
            "        The warnings can be turned off by\n",
            "    \n",
            "        >>> import warnings\n",
            "        >>> warnings.simplefilter('ignore', np.RankWarning)\n",
            "    \n",
            "    See Also\n",
            "    --------\n",
            "    polyval : Compute polynomial values.\n",
            "    linalg.lstsq : Computes a least-squares fit.\n",
            "    scipy.interpolate.UnivariateSpline : Computes spline fits.\n",
            "    \n",
            "    Notes\n",
            "    -----\n",
            "    The solution minimizes the squared error\n",
            "    \n",
            "    .. math ::\n",
            "        E = \\sum_{j=0}^k |p(x_j) - y_j|^2\n",
            "    \n",
            "    in the equations::\n",
            "    \n",
            "        x[0]**n * p[0] + ... + x[0] * p[n-1] + p[n] = y[0]\n",
            "        x[1]**n * p[0] + ... + x[1] * p[n-1] + p[n] = y[1]\n",
            "        ...\n",
            "        x[k]**n * p[0] + ... + x[k] * p[n-1] + p[n] = y[k]\n",
            "    \n",
            "    The coefficient matrix of the coefficients `p` is a Vandermonde matrix.\n",
            "    \n",
            "    `polyfit` issues a `RankWarning` when the least-squares fit is badly\n",
            "    conditioned. This implies that the best fit is not well-defined due\n",
            "    to numerical error. The results may be improved by lowering the polynomial\n",
            "    degree or by replacing `x` by `x` - `x`.mean(). The `rcond` parameter\n",
            "    can also be set to a value smaller than its default, but the resulting\n",
            "    fit may be spurious: including contributions from the small singular\n",
            "    values can add numerical noise to the result.\n",
            "    \n",
            "    Note that fitting polynomial coefficients is inherently badly conditioned\n",
            "    when the degree of the polynomial is large or the interval of sample points\n",
            "    is badly centered. The quality of the fit should always be checked in these\n",
            "    cases. When polynomial fits are not satisfactory, splines may be a good\n",
            "    alternative.\n",
            "    \n",
            "    References\n",
            "    ----------\n",
            "    .. [1] Wikipedia, \"Curve fitting\",\n",
            "           https://en.wikipedia.org/wiki/Curve_fitting\n",
            "    .. [2] Wikipedia, \"Polynomial interpolation\",\n",
            "           https://en.wikipedia.org/wiki/Polynomial_interpolation\n",
            "    \n",
            "    Examples\n",
            "    --------\n",
            "    >>> import warnings\n",
            "    >>> x = np.array([0.0, 1.0, 2.0, 3.0,  4.0,  5.0])\n",
            "    >>> y = np.array([0.0, 0.8, 0.9, 0.1, -0.8, -1.0])\n",
            "    >>> z = np.polyfit(x, y, 3)\n",
            "    >>> z\n",
            "    array([ 0.08703704, -0.81349206,  1.69312169, -0.03968254]) # may vary\n",
            "    \n",
            "    It is convenient to use `poly1d` objects for dealing with polynomials:\n",
            "    \n",
            "    >>> p = np.poly1d(z)\n",
            "    >>> p(0.5)\n",
            "    0.6143849206349179 # may vary\n",
            "    >>> p(3.5)\n",
            "    -0.34732142857143039 # may vary\n",
            "    >>> p(10)\n",
            "    22.579365079365115 # may vary\n",
            "    \n",
            "    High-order polynomials may oscillate wildly:\n",
            "    \n",
            "    >>> with warnings.catch_warnings():\n",
            "    ...     warnings.simplefilter('ignore', np.RankWarning)\n",
            "    ...     p30 = np.poly1d(np.polyfit(x, y, 30))\n",
            "    ...\n",
            "    >>> p30(4)\n",
            "    -0.80000000000000204 # may vary\n",
            "    >>> p30(5)\n",
            "    -0.99999999999999445 # may vary\n",
            "    >>> p30(4.5)\n",
            "    -0.10547061179440398 # may vary\n",
            "    \n",
            "    Illustration:\n",
            "    \n",
            "    >>> import matplotlib.pyplot as plt\n",
            "    >>> xp = np.linspace(-2, 6, 100)\n",
            "    >>> _ = plt.plot(x, y, '.', xp, p(xp), '-', xp, p30(xp), '--')\n",
            "    >>> plt.ylim(-2,2)\n",
            "    (-2, 2)\n",
            "    >>> plt.show()\n",
            "\n"
          ]
        }
      ]
    },
    {
      "cell_type": "code",
      "source": [
        "np.polyfit(X,y,deg=1)"
      ],
      "metadata": {
        "colab": {
          "base_uri": "https://localhost:8080/"
        },
        "id": "JjKgztF3abaF",
        "outputId": "08b353fb-ecea-488c-9a95-df9c25b27b38"
      },
      "execution_count": 18,
      "outputs": [
        {
          "output_type": "execute_result",
          "data": {
            "text/plain": [
              "array([0.04868788, 4.24302822])"
            ]
          },
          "metadata": {},
          "execution_count": 18
        }
      ]
    },
    {
      "cell_type": "code",
      "source": [
        "potential_spent = np.linspace(0,500,100)"
      ],
      "metadata": {
        "id": "7PeLaKvCauQu"
      },
      "execution_count": 19,
      "outputs": []
    },
    {
      "cell_type": "code",
      "source": [
        "predicted_sales = 0.04868788 * potential_spent + 4.24302822"
      ],
      "metadata": {
        "id": "2yONpw7pa3aO"
      },
      "execution_count": 20,
      "outputs": []
    },
    {
      "cell_type": "code",
      "source": [
        "sns.scatterplot(data=df,x='total_spent',y='sales')\n",
        "plt.plot(potential_spent , predicted_sales, color='red')"
      ],
      "metadata": {
        "colab": {
          "base_uri": "https://localhost:8080/",
          "height": 297
        },
        "id": "ULd8qjpibCj5",
        "outputId": "45f0b4c5-1a85-49f9-a547-b5518d813d86"
      },
      "execution_count": 23,
      "outputs": [
        {
          "output_type": "execute_result",
          "data": {
            "text/plain": [
              "[<matplotlib.lines.Line2D at 0x7fc820e9e990>]"
            ]
          },
          "metadata": {},
          "execution_count": 23
        },
        {
          "output_type": "display_data",
          "data": {
            "text/plain": [
              "<Figure size 432x288 with 1 Axes>"
            ],
            "image/png": "[encoded data removed]"
          },
          "metadata": {
            "needs_background": "light"
          }
        }
      ]
    },
    {
      "cell_type": "markdown",
      "source": [
        "Creating the model from scratch"
      ],
      "metadata": {
        "id": "Du2xGP2odWj8"
      }
    },
    {
      "cell_type": "code",
      "source": [
        "#1) The data set is loaded \n",
        "#2) Create the hypothesis\n",
        "#3) Create Cost func\n",
        "#4) Apply gradient \n",
        "#5) Min the gradient\n",
        "#6) Return the coefficient values"
      ],
      "metadata": {
        "id": "T8X343ANda1j"
      },
      "execution_count": 26,
      "outputs": []
    },
    {
      "cell_type": "code",
      "source": [
        "x1 = X\n",
        "y1 = y\n",
        "arr = x1.values\n",
        "x1 = arr.reshape((200,1))\n",
        "arr2 = y1.values\n",
        "y1 = arr.reshape((200,1))"
      ],
      "metadata": {
        "id": "fJ9piNXzt53u"
      },
      "execution_count": 64,
      "outputs": []
    },
    {
      "cell_type": "code",
      "source": [
        "def h(beta):\n",
        "  return np.matmul(beta,x1.T)"
      ],
      "metadata": {
        "id": "xppQ_JSXedYK"
      },
      "execution_count": 76,
      "outputs": []
    },
    {
      "cell_type": "code",
      "source": [
        "def cost_fun(beta):\n",
        "  return (  ( h(beta) - y1).T @ (h(beta) - y1) )/2*y1.shape[0]"
      ],
      "metadata": {
        "id": "5Fc07X68erEq"
      },
      "execution_count": 77,
      "outputs": []
    },
    {
      "cell_type": "code",
      "source": [
        "def gradient_descent(beta, learning_rate = 0.1 , epochs=10):\n",
        "\n",
        "  m = y1.shape[0]\n",
        "\n",
        "  cost = []\n",
        "\n",
        "  for _ in range(epochs):\n",
        "    hx = h(beta)\n",
        "    grad = (1/m) * (x1.T @(hx-y1))\n",
        "    beta = beta - learning_rate * grad\n",
        "    cost.append(cost_fun(beta))\n",
        "\n",
        "  return beta , cost"
      ],
      "metadata": {
        "id": "8rw6qJ_qir3N"
      },
      "execution_count": 78,
      "outputs": []
    },
    {
      "cell_type": "code",
      "source": [
        "def plot_data(x, y):\n",
        "\tplt.xlabel('Total spent')\n",
        "\tplt.ylabel('sales')\n",
        "\tplt.plot(x[:,0], y, 'bo')\n",
        "\tplt.show()"
      ],
      "metadata": {
        "id": "W54k37SglSjp"
      },
      "execution_count": 79,
      "outputs": []
    },
    {
      "cell_type": "code",
      "source": [
        "def plot_cost(J_all, num_epochs):\n",
        "\tplt.xlabel('Epochs')\n",
        "\tplt.ylabel('Cost')\n",
        "\tplt.plot(num_epochs, J_all, 'm', linewidth = \"5\")\n",
        "\tplt.show()"
      ],
      "metadata": {
        "id": "MIij65SBlkEF"
      },
      "execution_count": 80,
      "outputs": []
    },
    {
      "cell_type": "code",
      "source": [
        "X.shape"
      ],
      "metadata": {
        "colab": {
          "base_uri": "https://localhost:8080/"
        },
        "id": "mk2P5h0ilxQY",
        "outputId": "1d92f604-cd25-4bed-a6dd-62bca2c65754"
      },
      "execution_count": 81,
      "outputs": [
        {
          "output_type": "execute_result",
          "data": {
            "text/plain": [
              "(200,)"
            ]
          },
          "metadata": {},
          "execution_count": 81
        }
      ]
    },
    {
      "cell_type": "code",
      "source": [
        "y.shape"
      ],
      "metadata": {
        "colab": {
          "base_uri": "https://localhost:8080/"
        },
        "id": "vMjVXwwVlzGV",
        "outputId": "27e040c4-4425-42c2-ef68-07282d3a7db8"
      },
      "execution_count": 82,
      "outputs": [
        {
          "output_type": "execute_result",
          "data": {
            "text/plain": [
              "(200,)"
            ]
          },
          "metadata": {},
          "execution_count": 82
        }
      ]
    },
    {
      "cell_type": "code",
      "source": [
        "x1.shape"
      ],
      "metadata": {
        "colab": {
          "base_uri": "https://localhost:8080/"
        },
        "id": "S6WlA6fls39z",
        "outputId": "30ca63c3-06ba-4998-d683-b449d93dcddd"
      },
      "execution_count": 83,
      "outputs": [
        {
          "output_type": "execute_result",
          "data": {
            "text/plain": [
              "(200, 1)"
            ]
          },
          "metadata": {},
          "execution_count": 83
        }
      ]
    },
    {
      "cell_type": "code",
      "source": [
        "beta = np.zeros((2, 1))\n",
        "learning_rate = 0.1\n",
        "num_epochs = 50\n",
        "beta, J_all = gradient_descent( beta, learning_rate, num_epochs)\n",
        "J = cost_fun(beta)\n",
        "print(\"Cost: \", J)\n",
        "print(\"Parameters: \", beta)\n",
        "\n",
        "#for testing and plotting cost \n",
        "n_epochs = []\n",
        "jplot = []\n",
        "count = 0\n",
        "for i in J_all:\n",
        "\tjplot.append(i[0][0])\n",
        "\tn_epochs.append(count)\n",
        "\tcount += 1\n",
        "jplot = np.array(jplot)\n",
        "n_epochs = np.array(n_epochs)\n",
        "plot_cost(jplot, n_epochs)"
      ],
      "metadata": {
        "colab": {
          "base_uri": "https://localhost:8080/",
          "height": 358
        },
        "id": "vkz6D8kpkzgH",
        "outputId": "e5488d13-8882-42ae-cf5b-9b6cfd959bd9"
      },
      "execution_count": 84,
      "outputs": [
        {
          "output_type": "error",
          "ename": "ValueError",
          "evalue": "ignored",
          "traceback": [
            "\u001b[0;31m---------------------------------------------------------------------------\u001b[0m",
            "\u001b[0;31mValueError\u001b[0m                                Traceback (most recent call last)",
            "\u001b[0;32m<ipython-input-84-367951fe0673>\u001b[0m in \u001b[0;36m<module>\u001b[0;34m\u001b[0m\n\u001b[1;32m      2\u001b[0m \u001b[0mlearning_rate\u001b[0m \u001b[0;34m=\u001b[0m \u001b[0;36m0.1\u001b[0m\u001b[0;34m\u001b[0m\u001b[0;34m\u001b[0m\u001b[0m\n\u001b[1;32m      3\u001b[0m \u001b[0mnum_epochs\u001b[0m \u001b[0;34m=\u001b[0m \u001b[0;36m50\u001b[0m\u001b[0;34m\u001b[0m\u001b[0;34m\u001b[0m\u001b[0m\n\u001b[0;32m----> 4\u001b[0;31m \u001b[0mbeta\u001b[0m\u001b[0;34m,\u001b[0m \u001b[0mJ_all\u001b[0m \u001b[0;34m=\u001b[0m \u001b[0mgradient_descent\u001b[0m\u001b[0;34m(\u001b[0m \u001b[0mbeta\u001b[0m\u001b[0;34m,\u001b[0m \u001b[0mlearning_rate\u001b[0m\u001b[0;34m,\u001b[0m \u001b[0mnum_epochs\u001b[0m\u001b[0;34m)\u001b[0m\u001b[0;34m\u001b[0m\u001b[0;34m\u001b[0m\u001b[0m\n\u001b[0m\u001b[1;32m      5\u001b[0m \u001b[0mJ\u001b[0m \u001b[0;34m=\u001b[0m \u001b[0mcost_fun\u001b[0m\u001b[0;34m(\u001b[0m\u001b[0mbeta\u001b[0m\u001b[0;34m)\u001b[0m\u001b[0;34m\u001b[0m\u001b[0;34m\u001b[0m\u001b[0m\n\u001b[1;32m      6\u001b[0m \u001b[0mprint\u001b[0m\u001b[0;34m(\u001b[0m\u001b[0;34m\"Cost: \"\u001b[0m\u001b[0;34m,\u001b[0m \u001b[0mJ\u001b[0m\u001b[0;34m)\u001b[0m\u001b[0;34m\u001b[0m\u001b[0;34m\u001b[0m\u001b[0m\n",
            "\u001b[0;32m<ipython-input-78-5b85bd7a96a7>\u001b[0m in \u001b[0;36mgradient_descent\u001b[0;34m(beta, learning_rate, epochs)\u001b[0m\n\u001b[1;32m      7\u001b[0m   \u001b[0;32mfor\u001b[0m \u001b[0m_\u001b[0m \u001b[0;32min\u001b[0m \u001b[0mrange\u001b[0m\u001b[0;34m(\u001b[0m\u001b[0mepochs\u001b[0m\u001b[0;34m)\u001b[0m\u001b[0;34m:\u001b[0m\u001b[0;34m\u001b[0m\u001b[0;34m\u001b[0m\u001b[0m\n\u001b[1;32m      8\u001b[0m     \u001b[0mhx\u001b[0m \u001b[0;34m=\u001b[0m \u001b[0mh\u001b[0m\u001b[0;34m(\u001b[0m\u001b[0mbeta\u001b[0m\u001b[0;34m)\u001b[0m\u001b[0;34m\u001b[0m\u001b[0;34m\u001b[0m\u001b[0m\n\u001b[0;32m----> 9\u001b[0;31m     \u001b[0mgrad\u001b[0m \u001b[0;34m=\u001b[0m \u001b[0;34m(\u001b[0m\u001b[0;36m1\u001b[0m\u001b[0;34m/\u001b[0m\u001b[0mm\u001b[0m\u001b[0;34m)\u001b[0m \u001b[0;34m*\u001b[0m \u001b[0;34m(\u001b[0m\u001b[0mx1\u001b[0m\u001b[0;34m.\u001b[0m\u001b[0mT\u001b[0m \u001b[0;34m@\u001b[0m\u001b[0;34m(\u001b[0m\u001b[0mhx\u001b[0m\u001b[0;34m-\u001b[0m\u001b[0my1\u001b[0m\u001b[0;34m)\u001b[0m\u001b[0;34m)\u001b[0m\u001b[0;34m\u001b[0m\u001b[0;34m\u001b[0m\u001b[0m\n\u001b[0m\u001b[1;32m     10\u001b[0m     \u001b[0mbeta\u001b[0m \u001b[0;34m=\u001b[0m \u001b[0mbeta\u001b[0m \u001b[0;34m-\u001b[0m \u001b[0mlearning_rate\u001b[0m \u001b[0;34m*\u001b[0m \u001b[0mgrad\u001b[0m\u001b[0;34m\u001b[0m\u001b[0;34m\u001b[0m\u001b[0m\n\u001b[1;32m     11\u001b[0m     \u001b[0mcost\u001b[0m\u001b[0;34m.\u001b[0m\u001b[0mappend\u001b[0m\u001b[0;34m(\u001b[0m\u001b[0mcost_fun\u001b[0m\u001b[0;34m(\u001b[0m\u001b[0mbeta\u001b[0m\u001b[0;34m)\u001b[0m\u001b[0;34m)\u001b[0m\u001b[0;34m\u001b[0m\u001b[0;34m\u001b[0m\u001b[0m\n",
            "\u001b[0;31mValueError\u001b[0m: operands could not be broadcast together with shapes (2,200) (200,1) "
          ]
        }
      ]
    },
    {
      "cell_type": "code",
      "source": [],
      "metadata": {
        "id": "4JXcBWhRlpsW"
      },
      "execution_count": null,
      "outputs": []
    }
  ]
}